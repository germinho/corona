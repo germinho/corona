{
 "cells": [
  {
   "cell_type": "markdown",
   "metadata": {},
   "source": [
    "# Exploration des données"
   ]
  },
  {
   "cell_type": "code",
   "execution_count": 90,
   "metadata": {},
   "outputs": [],
   "source": [
    "import os\n",
    "import pandas as pd\n",
    "from datetime import date, timedelta\n"
   ]
  },
  {
   "cell_type": "code",
   "execution_count": 91,
   "metadata": {},
   "outputs": [],
   "source": [
    "# Racine des fichiers quotidiens\n",
    "BASE_URL ='https://raw.githubusercontent.com/CSSEGISandData/COVID-19/master/csse_covid_19_data/csse_covid_19_daily_reports/{}.csv'\n",
    "\n",
    "# Date de disponibilité des fichiers \n",
    "START_DATE =date(2020, 1,22)\n",
    "END_DATE =date(2020, 3,5)\n",
    "\n",
    "# Répertoire de sauvegarde des fichiers bruts\n",
    "RAWFILES_DIR = '../data/raw/'\n",
    "PROCESSED_DIR = '../data/processed/'"
   ]
  },
  {
   "cell_type": "markdown",
   "metadata": {},
   "source": [
    "## Boucle de récupération des fichiers"
   ]
  },
  {
   "cell_type": "code",
   "execution_count": 92,
   "metadata": {},
   "outputs": [],
   "source": [
    "delta = END_DATE - START_DATE       # as timedelta\n",
    "\n",
    "for i in range(delta.days + 1):\n",
    "    day = START_DATE + timedelta(days=i)\n",
    "    day_label = day.strftime(\"%m-%d-%Y\")\n",
    "    virus_df = pd.read_csv(BASE_URL.format(day_label), sep=',', parse_dates=['Last Update'])\n",
    "    virus_df.to_csv(os.path.join(RAWFILES_DIR, day_label +'.csv'), index=False)"
   ]
  },
  {
   "cell_type": "code",
   "execution_count": 93,
   "metadata": {},
   "outputs": [
    {
     "data": {
      "text/html": [
       "<div>\n",
       "<style scoped>\n",
       "    .dataframe tbody tr th:only-of-type {\n",
       "        vertical-align: middle;\n",
       "    }\n",
       "\n",
       "    .dataframe tbody tr th {\n",
       "        vertical-align: top;\n",
       "    }\n",
       "\n",
       "    .dataframe thead th {\n",
       "        text-align: right;\n",
       "    }\n",
       "</style>\n",
       "<table border=\"1\" class=\"dataframe\">\n",
       "  <thead>\n",
       "    <tr style=\"text-align: right;\">\n",
       "      <th></th>\n",
       "      <th>Province/State</th>\n",
       "      <th>Country/Region</th>\n",
       "      <th>Last Update</th>\n",
       "      <th>Confirmed</th>\n",
       "      <th>Deaths</th>\n",
       "      <th>Recovered</th>\n",
       "    </tr>\n",
       "  </thead>\n",
       "  <tbody>\n",
       "    <tr>\n",
       "      <th>0</th>\n",
       "      <td>Hubei</td>\n",
       "      <td>Mainland China</td>\n",
       "      <td>2020-01-28 23:00:00</td>\n",
       "      <td>3554</td>\n",
       "      <td>125.0</td>\n",
       "      <td>80.0</td>\n",
       "    </tr>\n",
       "    <tr>\n",
       "      <th>1</th>\n",
       "      <td>Guangdong</td>\n",
       "      <td>Mainland China</td>\n",
       "      <td>2020-01-28 23:00:00</td>\n",
       "      <td>207</td>\n",
       "      <td>NaN</td>\n",
       "      <td>4.0</td>\n",
       "    </tr>\n",
       "    <tr>\n",
       "      <th>2</th>\n",
       "      <td>Zhejiang</td>\n",
       "      <td>Mainland China</td>\n",
       "      <td>2020-01-28 23:00:00</td>\n",
       "      <td>173</td>\n",
       "      <td>NaN</td>\n",
       "      <td>3.0</td>\n",
       "    </tr>\n",
       "    <tr>\n",
       "      <th>3</th>\n",
       "      <td>Henan</td>\n",
       "      <td>Mainland China</td>\n",
       "      <td>2020-01-28 23:00:00</td>\n",
       "      <td>168</td>\n",
       "      <td>1.0</td>\n",
       "      <td>NaN</td>\n",
       "    </tr>\n",
       "    <tr>\n",
       "      <th>4</th>\n",
       "      <td>Hunan</td>\n",
       "      <td>Mainland China</td>\n",
       "      <td>2020-01-28 23:00:00</td>\n",
       "      <td>143</td>\n",
       "      <td>NaN</td>\n",
       "      <td>NaN</td>\n",
       "    </tr>\n",
       "  </tbody>\n",
       "</table>\n",
       "</div>"
      ],
      "text/plain": [
       "  Province/State  Country/Region          Last Update  Confirmed  Deaths  \\\n",
       "0          Hubei  Mainland China  2020-01-28 23:00:00       3554   125.0   \n",
       "1      Guangdong  Mainland China  2020-01-28 23:00:00        207     NaN   \n",
       "2       Zhejiang  Mainland China  2020-01-28 23:00:00        173     NaN   \n",
       "3          Henan  Mainland China  2020-01-28 23:00:00        168     1.0   \n",
       "4          Hunan  Mainland China  2020-01-28 23:00:00        143     NaN   \n",
       "\n",
       "   Recovered  \n",
       "0       80.0  \n",
       "1        4.0  \n",
       "2        3.0  \n",
       "3        NaN  \n",
       "4        NaN  "
      ]
     },
     "execution_count": 93,
     "metadata": {},
     "output_type": "execute_result"
    }
   ],
   "source": [
    "(pd.read_csv(RAWFILES_DIR + '01-28-2020.csv', \n",
    "            sep=','\n",
    "           )\n",
    ").head()"
   ]
  },
  {
   "cell_type": "markdown",
   "metadata": {},
   "source": [
    "## Constitution de la table de référence lat/long"
   ]
  },
  {
   "cell_type": "code",
   "execution_count": 94,
   "metadata": {},
   "outputs": [],
   "source": [
    "import glob\n"
   ]
  },
  {
   "cell_type": "code",
   "execution_count": 95,
   "metadata": {},
   "outputs": [],
   "source": [
    "\n",
    "df_list = []\n",
    "\n",
    "for file in glob.glob(os.path.join(RAWFILES_DIR, '*.csv')):\n",
    "    virus_df = pd.read_csv(file, sep=',')\n",
    "    if 'Latitude' in virus_df.columns and 'Longitude' in virus_df.columns:\n",
    "        df_list.append(virus_df)\n",
    "\n",
    "all_df =  pd.concat(df_list)\n",
    "\n",
    "# Création d'une table de référence pour latitude et longitude \n",
    "\n",
    "(all_df[['Province/State','Country/Region','Latitude', 'Longitude']]\n",
    " .drop_duplicates(subset=['Province/State','Country/Region'])\n",
    " .sort_values(by=['Country/Region','Province/State',])\n",
    " .to_csv(os.path.join(PROCESSED_DIR, 'lat_long_table.csv'), index= False)\n",
    ")"
   ]
  },
  {
   "cell_type": "markdown",
   "metadata": {},
   "source": [
    "## Construction d'une table unique"
   ]
  },
  {
   "cell_type": "code",
   "execution_count": 96,
   "metadata": {},
   "outputs": [],
   "source": [
    "data_catalog = {\n",
    "    'Last Update': ['<M8[ns]'],\n",
    "    'Confirmed' : ['float','int64'],\n",
    "    'Deaths':['float','int64'],\n",
    "    'Recovered':['float','int64'],\n",
    "    'Latitude': ['float64'],\n",
    "    'Longitude':['float64'],\n",
    "}"
   ]
  },
  {
   "cell_type": "code",
   "execution_count": 97,
   "metadata": {},
   "outputs": [],
   "source": [
    "df_list=[]\n",
    "latlong_df = pd.read_csv(os.path.join(PROCESSED_DIR, 'lat_long_table.csv'))\n",
    "\n",
    "# Lecture des fichiers récupérés et sélection de\n",
    "for file in glob.glob(os.path.join(RAWFILES_DIR, '*.csv')):\n",
    "    virus_df = pd.read_csv(file, sep=',',parse_dates=['Last Update'])\n",
    "    if not ('Latitude' in virus_df.columns or 'Longitude' in virus_df.columns):\n",
    "        virus_df = virus_df.merge(latlong_df, on=['Province/State','Country/Region'], how='left')\n",
    "    \n",
    "    for field, types in data_catalog.items():\n",
    "        assert virus_df[field].dtypes in types, f\"Bad for {field} in {file}\"\n",
    "   \n",
    "    df_list.append(virus_df.assign(source=os.path.basename(file)))\n",
    "                        \n",
    "\n",
    "all_df =  pd.concat(df_list)\n",
    "                        \n",
    "# Sauvegarde de la base finale\n",
    "all_df.to_csv(os.path.join(PROCESSED_DIR, 'all_data.csv'), index = False)\n"
   ]
  },
  {
   "cell_type": "code",
   "execution_count": 98,
   "metadata": {},
   "outputs": [
    {
     "data": {
      "text/plain": [
       "Province/State            object\n",
       "Country/Region            object\n",
       "Last Update       datetime64[ns]\n",
       "Confirmed                float64\n",
       "Deaths                   float64\n",
       "Recovered                float64\n",
       "Latitude                 float64\n",
       "Longitude                float64\n",
       "source                    object\n",
       "dtype: object"
      ]
     },
     "execution_count": 98,
     "metadata": {},
     "output_type": "execute_result"
    }
   ],
   "source": [
    "all_df.dtypes"
   ]
  },
  {
   "cell_type": "code",
   "execution_count": 99,
   "metadata": {},
   "outputs": [
    {
     "data": {
      "text/plain": [
       "(3568, 9)"
      ]
     },
     "execution_count": 99,
     "metadata": {},
     "output_type": "execute_result"
    }
   ],
   "source": [
    "all_df.shape"
   ]
  },
  {
   "cell_type": "code",
   "execution_count": null,
   "metadata": {},
   "outputs": [],
   "source": []
  },
  {
   "cell_type": "code",
   "execution_count": null,
   "metadata": {},
   "outputs": [],
   "source": []
  },
  {
   "cell_type": "code",
   "execution_count": null,
   "metadata": {},
   "outputs": [],
   "source": []
  }
 ],
 "metadata": {
  "kernelspec": {
   "display_name": "Projet Corona (Python)",
   "language": "python",
   "name": "coronavirus"
  },
  "language_info": {
   "codemirror_mode": {
    "name": "ipython",
    "version": 3
   },
   "file_extension": ".py",
   "mimetype": "text/x-python",
   "name": "python",
   "nbconvert_exporter": "python",
   "pygments_lexer": "ipython3",
   "version": "3.8.1"
  }
 },
 "nbformat": 4,
 "nbformat_minor": 2
}
