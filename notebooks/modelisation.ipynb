{
 "cells": [
  {
   "cell_type": "code",
   "execution_count": 1,
   "metadata": {},
   "outputs": [],
   "source": [
    "import datetime\n",
    "import os\n",
    "import yaml\n",
    "\n",
    "import numpy as np\n",
    "import pandas as pd"
   ]
  },
  {
   "cell_type": "code",
   "execution_count": 2,
   "metadata": {},
   "outputs": [
    {
     "name": "stderr",
     "output_type": "stream",
     "text": [
      "C:\\Users\\Gab\\Anaconda3\\lib\\site-packages\\ipykernel_launcher.py:4: YAMLLoadWarning: calling yaml.load() without Loader=... is deprecated, as the default Loader is unsafe. Please read https://msg.pyyaml.org/load for full details.\n",
      "  after removing the cwd from sys.path.\n"
     ]
    }
   ],
   "source": [
    "# Lecture du fichier d'environnement\n",
    "ENV_FILE = '../env.yaml'\n",
    "with open(ENV_FILE) as f:\n",
    "    params = yaml.load(f) #, Loader=yaml.FullLoader)\n",
    "\n",
    "# Initialisation des chemins vers les fichiers\n",
    "ROOT_DIR = os.path.dirname(os.path.abspath(ENV_FILE))\n",
    "DATA_FILE = os.path.join(ROOT_DIR,\n",
    "                         params['directories']['processed'],\n",
    "                         params['files']['all_data'])\n",
    "\n",
    "# Lecture du fichier de données\n",
    "epidemie_df = (pd.read_csv(DATA_FILE, parse_dates=['Last Update'])\n",
    "               .assign(day=lambda _df: _df['Last Update'].dt.date)\n",
    "               .drop_duplicates(subset=['Country/Region', 'Province/State', 'day'])\n",
    "               [lambda df: df['day'] <= datetime.date(2020, 3, 12)]\n",
    "              )"
   ]
  },
  {
   "cell_type": "code",
   "execution_count": 3,
   "metadata": {},
   "outputs": [
    {
     "data": {
      "text/html": [
       "<div>\n",
       "<style scoped>\n",
       "    .dataframe tbody tr th:only-of-type {\n",
       "        vertical-align: middle;\n",
       "    }\n",
       "\n",
       "    .dataframe tbody tr th {\n",
       "        vertical-align: top;\n",
       "    }\n",
       "\n",
       "    .dataframe thead th {\n",
       "        text-align: right;\n",
       "    }\n",
       "</style>\n",
       "<table border=\"1\" class=\"dataframe\">\n",
       "  <thead>\n",
       "    <tr style=\"text-align: right;\">\n",
       "      <th></th>\n",
       "      <th>Province/State</th>\n",
       "      <th>Country/Region</th>\n",
       "      <th>Last Update</th>\n",
       "      <th>Confirmed</th>\n",
       "      <th>Deaths</th>\n",
       "      <th>Recovered</th>\n",
       "      <th>Latitude</th>\n",
       "      <th>Longitude</th>\n",
       "      <th>source</th>\n",
       "      <th>FIPS</th>\n",
       "      <th>Admin2</th>\n",
       "      <th>Active</th>\n",
       "      <th>Combined_Key</th>\n",
       "      <th>day</th>\n",
       "    </tr>\n",
       "  </thead>\n",
       "  <tbody>\n",
       "    <tr>\n",
       "      <td>0</td>\n",
       "      <td>Anhui</td>\n",
       "      <td>Mainland China</td>\n",
       "      <td>2020-01-22 17:00:00</td>\n",
       "      <td>1.0</td>\n",
       "      <td>NaN</td>\n",
       "      <td>NaN</td>\n",
       "      <td>31.8257</td>\n",
       "      <td>117.2264</td>\n",
       "      <td>01-22-2020.csv</td>\n",
       "      <td>NaN</td>\n",
       "      <td>NaN</td>\n",
       "      <td>NaN</td>\n",
       "      <td>NaN</td>\n",
       "      <td>2020-01-22</td>\n",
       "    </tr>\n",
       "    <tr>\n",
       "      <td>1</td>\n",
       "      <td>Beijing</td>\n",
       "      <td>Mainland China</td>\n",
       "      <td>2020-01-22 17:00:00</td>\n",
       "      <td>14.0</td>\n",
       "      <td>NaN</td>\n",
       "      <td>NaN</td>\n",
       "      <td>40.1824</td>\n",
       "      <td>116.4142</td>\n",
       "      <td>01-22-2020.csv</td>\n",
       "      <td>NaN</td>\n",
       "      <td>NaN</td>\n",
       "      <td>NaN</td>\n",
       "      <td>NaN</td>\n",
       "      <td>2020-01-22</td>\n",
       "    </tr>\n",
       "    <tr>\n",
       "      <td>2</td>\n",
       "      <td>Chongqing</td>\n",
       "      <td>Mainland China</td>\n",
       "      <td>2020-01-22 17:00:00</td>\n",
       "      <td>6.0</td>\n",
       "      <td>NaN</td>\n",
       "      <td>NaN</td>\n",
       "      <td>30.0572</td>\n",
       "      <td>107.8740</td>\n",
       "      <td>01-22-2020.csv</td>\n",
       "      <td>NaN</td>\n",
       "      <td>NaN</td>\n",
       "      <td>NaN</td>\n",
       "      <td>NaN</td>\n",
       "      <td>2020-01-22</td>\n",
       "    </tr>\n",
       "    <tr>\n",
       "      <td>3</td>\n",
       "      <td>Fujian</td>\n",
       "      <td>Mainland China</td>\n",
       "      <td>2020-01-22 17:00:00</td>\n",
       "      <td>1.0</td>\n",
       "      <td>NaN</td>\n",
       "      <td>NaN</td>\n",
       "      <td>26.0789</td>\n",
       "      <td>117.9874</td>\n",
       "      <td>01-22-2020.csv</td>\n",
       "      <td>NaN</td>\n",
       "      <td>NaN</td>\n",
       "      <td>NaN</td>\n",
       "      <td>NaN</td>\n",
       "      <td>2020-01-22</td>\n",
       "    </tr>\n",
       "    <tr>\n",
       "      <td>4</td>\n",
       "      <td>Gansu</td>\n",
       "      <td>Mainland China</td>\n",
       "      <td>2020-01-22 17:00:00</td>\n",
       "      <td>NaN</td>\n",
       "      <td>NaN</td>\n",
       "      <td>NaN</td>\n",
       "      <td>36.0611</td>\n",
       "      <td>103.8343</td>\n",
       "      <td>01-22-2020.csv</td>\n",
       "      <td>NaN</td>\n",
       "      <td>NaN</td>\n",
       "      <td>NaN</td>\n",
       "      <td>NaN</td>\n",
       "      <td>2020-01-22</td>\n",
       "    </tr>\n",
       "  </tbody>\n",
       "</table>\n",
       "</div>"
      ],
      "text/plain": [
       "  Province/State  Country/Region         Last Update  Confirmed  Deaths  \\\n",
       "0          Anhui  Mainland China 2020-01-22 17:00:00        1.0     NaN   \n",
       "1        Beijing  Mainland China 2020-01-22 17:00:00       14.0     NaN   \n",
       "2      Chongqing  Mainland China 2020-01-22 17:00:00        6.0     NaN   \n",
       "3         Fujian  Mainland China 2020-01-22 17:00:00        1.0     NaN   \n",
       "4          Gansu  Mainland China 2020-01-22 17:00:00        NaN     NaN   \n",
       "\n",
       "   Recovered  Latitude  Longitude          source  FIPS Admin2  Active  \\\n",
       "0        NaN   31.8257   117.2264  01-22-2020.csv   NaN    NaN     NaN   \n",
       "1        NaN   40.1824   116.4142  01-22-2020.csv   NaN    NaN     NaN   \n",
       "2        NaN   30.0572   107.8740  01-22-2020.csv   NaN    NaN     NaN   \n",
       "3        NaN   26.0789   117.9874  01-22-2020.csv   NaN    NaN     NaN   \n",
       "4        NaN   36.0611   103.8343  01-22-2020.csv   NaN    NaN     NaN   \n",
       "\n",
       "  Combined_Key         day  \n",
       "0          NaN  2020-01-22  \n",
       "1          NaN  2020-01-22  \n",
       "2          NaN  2020-01-22  \n",
       "3          NaN  2020-01-22  \n",
       "4          NaN  2020-01-22  "
      ]
     },
     "execution_count": 3,
     "metadata": {},
     "output_type": "execute_result"
    }
   ],
   "source": [
    "epidemie_df.head()"
   ]
  },
  {
   "cell_type": "code",
   "execution_count": 4,
   "metadata": {},
   "outputs": [
    {
     "data": {
      "text/html": [
       "<div>\n",
       "<style scoped>\n",
       "    .dataframe tbody tr th:only-of-type {\n",
       "        vertical-align: middle;\n",
       "    }\n",
       "\n",
       "    .dataframe tbody tr th {\n",
       "        vertical-align: top;\n",
       "    }\n",
       "\n",
       "    .dataframe thead th {\n",
       "        text-align: right;\n",
       "    }\n",
       "</style>\n",
       "<table border=\"1\" class=\"dataframe\">\n",
       "  <thead>\n",
       "    <tr style=\"text-align: right;\">\n",
       "      <th></th>\n",
       "      <th>Country/Region</th>\n",
       "      <th>day</th>\n",
       "      <th>Confirmed</th>\n",
       "      <th>Deaths</th>\n",
       "      <th>Recovered</th>\n",
       "    </tr>\n",
       "  </thead>\n",
       "  <tbody>\n",
       "    <tr>\n",
       "      <td>23</td>\n",
       "      <td>France</td>\n",
       "      <td>2020-03-07</td>\n",
       "      <td>949.0</td>\n",
       "      <td>11.0</td>\n",
       "      <td>12.0</td>\n",
       "    </tr>\n",
       "    <tr>\n",
       "      <td>24</td>\n",
       "      <td>France</td>\n",
       "      <td>2020-03-08</td>\n",
       "      <td>1126.0</td>\n",
       "      <td>19.0</td>\n",
       "      <td>12.0</td>\n",
       "    </tr>\n",
       "    <tr>\n",
       "      <td>25</td>\n",
       "      <td>France</td>\n",
       "      <td>2020-03-09</td>\n",
       "      <td>1209.0</td>\n",
       "      <td>19.0</td>\n",
       "      <td>12.0</td>\n",
       "    </tr>\n",
       "    <tr>\n",
       "      <td>26</td>\n",
       "      <td>France</td>\n",
       "      <td>2020-03-10</td>\n",
       "      <td>1784.0</td>\n",
       "      <td>33.0</td>\n",
       "      <td>12.0</td>\n",
       "    </tr>\n",
       "    <tr>\n",
       "      <td>27</td>\n",
       "      <td>France</td>\n",
       "      <td>2020-03-11</td>\n",
       "      <td>2287.0</td>\n",
       "      <td>48.0</td>\n",
       "      <td>12.0</td>\n",
       "    </tr>\n",
       "  </tbody>\n",
       "</table>\n",
       "</div>"
      ],
      "text/plain": [
       "   Country/Region         day  Confirmed  Deaths  Recovered\n",
       "23         France  2020-03-07      949.0    11.0       12.0\n",
       "24         France  2020-03-08     1126.0    19.0       12.0\n",
       "25         France  2020-03-09     1209.0    19.0       12.0\n",
       "26         France  2020-03-10     1784.0    33.0       12.0\n",
       "27         France  2020-03-11     2287.0    48.0       12.0"
      ]
     },
     "execution_count": 4,
     "metadata": {},
     "output_type": "execute_result"
    }
   ],
   "source": [
    "france_df = (epidemie_df[epidemie_df['Country/Region'] == 'France']\n",
    "             .groupby(['Country/Region', 'day'])\n",
    "             .agg({'Confirmed': 'sum', 'Deaths': 'sum', 'Recovered': 'sum'})\n",
    "             .reset_index()\n",
    "            )\n",
    "france_df.tail()"
   ]
  },
  {
   "cell_type": "code",
   "execution_count": 5,
   "metadata": {},
   "outputs": [
    {
     "data": {
      "text/plain": [
       "0       NaN\n",
       "1       1.0\n",
       "2       0.0\n",
       "3       0.0\n",
       "4       1.0\n",
       "5       1.0\n",
       "6       0.0\n",
       "7       0.0\n",
       "8       1.0\n",
       "9       5.0\n",
       "10      0.0\n",
       "11      1.0\n",
       "12      2.0\n",
       "13      4.0\n",
       "14     20.0\n",
       "15     19.0\n",
       "16     43.0\n",
       "17     30.0\n",
       "18     61.0\n",
       "19     13.0\n",
       "20     81.0\n",
       "21     92.0\n",
       "22    276.0\n",
       "23    296.0\n",
       "24    177.0\n",
       "25     83.0\n",
       "26    575.0\n",
       "27    503.0\n",
       "Name: Confirmed, dtype: float64"
      ]
     },
     "execution_count": 5,
     "metadata": {},
     "output_type": "execute_result"
    }
   ],
   "source": [
    "france_df['Confirmed'].diff()"
   ]
  },
  {
   "cell_type": "code",
   "execution_count": 6,
   "metadata": {},
   "outputs": [],
   "source": [
    "def get_country(self, country):\n",
    "    return (epidemie_df[epidemie_df['Country/Region'] == country]\n",
    "            .groupby(['Country/Region', 'day'])\n",
    "            .agg({'Confirmed': 'sum', 'Deaths': 'sum', 'Recovered': 'sum'})\n",
    "            .reset_index()\n",
    "           )\n",
    "\n",
    "# Monkey Patch pd.DataFrame\n",
    "pd.DataFrame.get_country = get_country"
   ]
  },
  {
   "cell_type": "code",
   "execution_count": 7,
   "metadata": {},
   "outputs": [
    {
     "data": {
      "text/html": [
       "<div>\n",
       "<style scoped>\n",
       "    .dataframe tbody tr th:only-of-type {\n",
       "        vertical-align: middle;\n",
       "    }\n",
       "\n",
       "    .dataframe tbody tr th {\n",
       "        vertical-align: top;\n",
       "    }\n",
       "\n",
       "    .dataframe thead th {\n",
       "        text-align: right;\n",
       "    }\n",
       "</style>\n",
       "<table border=\"1\" class=\"dataframe\">\n",
       "  <thead>\n",
       "    <tr style=\"text-align: right;\">\n",
       "      <th></th>\n",
       "      <th>Country/Region</th>\n",
       "      <th>day</th>\n",
       "      <th>Confirmed</th>\n",
       "      <th>Deaths</th>\n",
       "      <th>Recovered</th>\n",
       "    </tr>\n",
       "  </thead>\n",
       "  <tbody>\n",
       "    <tr>\n",
       "      <td>0</td>\n",
       "      <td>South Korea</td>\n",
       "      <td>2020-01-22</td>\n",
       "      <td>1.0</td>\n",
       "      <td>0.0</td>\n",
       "      <td>0.0</td>\n",
       "    </tr>\n",
       "    <tr>\n",
       "      <td>1</td>\n",
       "      <td>South Korea</td>\n",
       "      <td>2020-01-23</td>\n",
       "      <td>1.0</td>\n",
       "      <td>0.0</td>\n",
       "      <td>0.0</td>\n",
       "    </tr>\n",
       "    <tr>\n",
       "      <td>2</td>\n",
       "      <td>South Korea</td>\n",
       "      <td>2020-01-24</td>\n",
       "      <td>2.0</td>\n",
       "      <td>0.0</td>\n",
       "      <td>0.0</td>\n",
       "    </tr>\n",
       "    <tr>\n",
       "      <td>3</td>\n",
       "      <td>South Korea</td>\n",
       "      <td>2020-01-25</td>\n",
       "      <td>2.0</td>\n",
       "      <td>0.0</td>\n",
       "      <td>0.0</td>\n",
       "    </tr>\n",
       "    <tr>\n",
       "      <td>4</td>\n",
       "      <td>South Korea</td>\n",
       "      <td>2020-01-26</td>\n",
       "      <td>3.0</td>\n",
       "      <td>0.0</td>\n",
       "      <td>0.0</td>\n",
       "    </tr>\n",
       "  </tbody>\n",
       "</table>\n",
       "</div>"
      ],
      "text/plain": [
       "  Country/Region         day  Confirmed  Deaths  Recovered\n",
       "0    South Korea  2020-01-22        1.0     0.0        0.0\n",
       "1    South Korea  2020-01-23        1.0     0.0        0.0\n",
       "2    South Korea  2020-01-24        2.0     0.0        0.0\n",
       "3    South Korea  2020-01-25        2.0     0.0        0.0\n",
       "4    South Korea  2020-01-26        3.0     0.0        0.0"
      ]
     },
     "execution_count": 7,
     "metadata": {},
     "output_type": "execute_result"
    }
   ],
   "source": [
    "get_country(epidemie_df, \"South Korea\").head()"
   ]
  },
  {
   "cell_type": "code",
   "execution_count": 8,
   "metadata": {},
   "outputs": [
    {
     "data": {
      "text/html": [
       "<div>\n",
       "<style scoped>\n",
       "    .dataframe tbody tr th:only-of-type {\n",
       "        vertical-align: middle;\n",
       "    }\n",
       "\n",
       "    .dataframe tbody tr th {\n",
       "        vertical-align: top;\n",
       "    }\n",
       "\n",
       "    .dataframe thead th {\n",
       "        text-align: right;\n",
       "    }\n",
       "</style>\n",
       "<table border=\"1\" class=\"dataframe\">\n",
       "  <thead>\n",
       "    <tr style=\"text-align: right;\">\n",
       "      <th></th>\n",
       "      <th>Country/Region</th>\n",
       "      <th>day</th>\n",
       "      <th>Confirmed</th>\n",
       "      <th>Deaths</th>\n",
       "      <th>Recovered</th>\n",
       "    </tr>\n",
       "  </thead>\n",
       "  <tbody>\n",
       "    <tr>\n",
       "      <td>0</td>\n",
       "      <td>South Korea</td>\n",
       "      <td>2020-01-22</td>\n",
       "      <td>1.0</td>\n",
       "      <td>0.0</td>\n",
       "      <td>0.0</td>\n",
       "    </tr>\n",
       "    <tr>\n",
       "      <td>1</td>\n",
       "      <td>South Korea</td>\n",
       "      <td>2020-01-23</td>\n",
       "      <td>1.0</td>\n",
       "      <td>0.0</td>\n",
       "      <td>0.0</td>\n",
       "    </tr>\n",
       "    <tr>\n",
       "      <td>2</td>\n",
       "      <td>South Korea</td>\n",
       "      <td>2020-01-24</td>\n",
       "      <td>2.0</td>\n",
       "      <td>0.0</td>\n",
       "      <td>0.0</td>\n",
       "    </tr>\n",
       "    <tr>\n",
       "      <td>3</td>\n",
       "      <td>South Korea</td>\n",
       "      <td>2020-01-25</td>\n",
       "      <td>2.0</td>\n",
       "      <td>0.0</td>\n",
       "      <td>0.0</td>\n",
       "    </tr>\n",
       "    <tr>\n",
       "      <td>4</td>\n",
       "      <td>South Korea</td>\n",
       "      <td>2020-01-26</td>\n",
       "      <td>3.0</td>\n",
       "      <td>0.0</td>\n",
       "      <td>0.0</td>\n",
       "    </tr>\n",
       "  </tbody>\n",
       "</table>\n",
       "</div>"
      ],
      "text/plain": [
       "  Country/Region         day  Confirmed  Deaths  Recovered\n",
       "0    South Korea  2020-01-22        1.0     0.0        0.0\n",
       "1    South Korea  2020-01-23        1.0     0.0        0.0\n",
       "2    South Korea  2020-01-24        2.0     0.0        0.0\n",
       "3    South Korea  2020-01-25        2.0     0.0        0.0\n",
       "4    South Korea  2020-01-26        3.0     0.0        0.0"
      ]
     },
     "execution_count": 8,
     "metadata": {},
     "output_type": "execute_result"
    }
   ],
   "source": [
    "epidemie_df.get_country(\"South Korea\").head()"
   ]
  },
  {
   "cell_type": "code",
   "execution_count": 9,
   "metadata": {},
   "outputs": [
    {
     "data": {
      "text/html": [
       "<div>\n",
       "<style scoped>\n",
       "    .dataframe tbody tr th:only-of-type {\n",
       "        vertical-align: middle;\n",
       "    }\n",
       "\n",
       "    .dataframe tbody tr th {\n",
       "        vertical-align: top;\n",
       "    }\n",
       "\n",
       "    .dataframe thead th {\n",
       "        text-align: right;\n",
       "    }\n",
       "</style>\n",
       "<table border=\"1\" class=\"dataframe\">\n",
       "  <thead>\n",
       "    <tr style=\"text-align: right;\">\n",
       "      <th></th>\n",
       "      <th>Country/Region</th>\n",
       "      <th>day</th>\n",
       "      <th>Confirmed</th>\n",
       "      <th>Deaths</th>\n",
       "      <th>Recovered</th>\n",
       "    </tr>\n",
       "  </thead>\n",
       "  <tbody>\n",
       "    <tr>\n",
       "      <td>0</td>\n",
       "      <td>Italy</td>\n",
       "      <td>2020-01-31</td>\n",
       "      <td>2.0</td>\n",
       "      <td>0.0</td>\n",
       "      <td>0.0</td>\n",
       "    </tr>\n",
       "    <tr>\n",
       "      <td>1</td>\n",
       "      <td>Italy</td>\n",
       "      <td>2020-02-07</td>\n",
       "      <td>3.0</td>\n",
       "      <td>0.0</td>\n",
       "      <td>0.0</td>\n",
       "    </tr>\n",
       "    <tr>\n",
       "      <td>2</td>\n",
       "      <td>Italy</td>\n",
       "      <td>2020-02-21</td>\n",
       "      <td>20.0</td>\n",
       "      <td>1.0</td>\n",
       "      <td>0.0</td>\n",
       "    </tr>\n",
       "    <tr>\n",
       "      <td>3</td>\n",
       "      <td>Italy</td>\n",
       "      <td>2020-02-22</td>\n",
       "      <td>62.0</td>\n",
       "      <td>2.0</td>\n",
       "      <td>1.0</td>\n",
       "    </tr>\n",
       "    <tr>\n",
       "      <td>4</td>\n",
       "      <td>Italy</td>\n",
       "      <td>2020-02-23</td>\n",
       "      <td>155.0</td>\n",
       "      <td>3.0</td>\n",
       "      <td>2.0</td>\n",
       "    </tr>\n",
       "  </tbody>\n",
       "</table>\n",
       "</div>"
      ],
      "text/plain": [
       "  Country/Region         day  Confirmed  Deaths  Recovered\n",
       "0          Italy  2020-01-31        2.0     0.0        0.0\n",
       "1          Italy  2020-02-07        3.0     0.0        0.0\n",
       "2          Italy  2020-02-21       20.0     1.0        0.0\n",
       "3          Italy  2020-02-22       62.0     2.0        1.0\n",
       "4          Italy  2020-02-23      155.0     3.0        2.0"
      ]
     },
     "execution_count": 9,
     "metadata": {},
     "output_type": "execute_result"
    }
   ],
   "source": [
    "italy_df = epidemie_df.get_country('Italy')\n",
    "italy_df.head()"
   ]
  },
  {
   "cell_type": "code",
   "execution_count": 10,
   "metadata": {},
   "outputs": [
    {
     "data": {
      "text/html": [
       "<div>\n",
       "<style scoped>\n",
       "    .dataframe tbody tr th:only-of-type {\n",
       "        vertical-align: middle;\n",
       "    }\n",
       "\n",
       "    .dataframe tbody tr th {\n",
       "        vertical-align: top;\n",
       "    }\n",
       "\n",
       "    .dataframe thead th {\n",
       "        text-align: right;\n",
       "    }\n",
       "</style>\n",
       "<table border=\"1\" class=\"dataframe\">\n",
       "  <thead>\n",
       "    <tr style=\"text-align: right;\">\n",
       "      <th></th>\n",
       "      <th>Country/Region</th>\n",
       "      <th>day</th>\n",
       "      <th>Confirmed</th>\n",
       "      <th>Deaths</th>\n",
       "      <th>Recovered</th>\n",
       "    </tr>\n",
       "  </thead>\n",
       "  <tbody>\n",
       "    <tr>\n",
       "      <td>38</td>\n",
       "      <td>South Korea</td>\n",
       "      <td>2020-03-05</td>\n",
       "      <td>6088.0</td>\n",
       "      <td>35.0</td>\n",
       "      <td>41.0</td>\n",
       "    </tr>\n",
       "    <tr>\n",
       "      <td>39</td>\n",
       "      <td>South Korea</td>\n",
       "      <td>2020-03-06</td>\n",
       "      <td>6593.0</td>\n",
       "      <td>42.0</td>\n",
       "      <td>135.0</td>\n",
       "    </tr>\n",
       "    <tr>\n",
       "      <td>40</td>\n",
       "      <td>South Korea</td>\n",
       "      <td>2020-03-07</td>\n",
       "      <td>7041.0</td>\n",
       "      <td>44.0</td>\n",
       "      <td>135.0</td>\n",
       "    </tr>\n",
       "    <tr>\n",
       "      <td>41</td>\n",
       "      <td>South Korea</td>\n",
       "      <td>2020-03-08</td>\n",
       "      <td>7314.0</td>\n",
       "      <td>50.0</td>\n",
       "      <td>118.0</td>\n",
       "    </tr>\n",
       "    <tr>\n",
       "      <td>42</td>\n",
       "      <td>South Korea</td>\n",
       "      <td>2020-03-09</td>\n",
       "      <td>7478.0</td>\n",
       "      <td>53.0</td>\n",
       "      <td>118.0</td>\n",
       "    </tr>\n",
       "  </tbody>\n",
       "</table>\n",
       "</div>"
      ],
      "text/plain": [
       "   Country/Region         day  Confirmed  Deaths  Recovered\n",
       "38    South Korea  2020-03-05     6088.0    35.0       41.0\n",
       "39    South Korea  2020-03-06     6593.0    42.0      135.0\n",
       "40    South Korea  2020-03-07     7041.0    44.0      135.0\n",
       "41    South Korea  2020-03-08     7314.0    50.0      118.0\n",
       "42    South Korea  2020-03-09     7478.0    53.0      118.0"
      ]
     },
     "execution_count": 10,
     "metadata": {},
     "output_type": "execute_result"
    }
   ],
   "source": [
    "korea_df = (epidemie_df[epidemie_df['Country/Region'] == 'South Korea']\n",
    "             .groupby(['Country/Region', 'day'])\n",
    "             .agg({'Confirmed': 'sum', 'Deaths': 'sum', 'Recovered': 'sum'})\n",
    "             .reset_index()\n",
    "            )\n",
    "korea_df.tail()"
   ]
  },
  {
   "cell_type": "code",
   "execution_count": 11,
   "metadata": {},
   "outputs": [],
   "source": [
    "korea_df['infected'] = korea_df['Confirmed'].diff()\n",
    "italy_df['infected'] = italy_df['Confirmed'].diff()"
   ]
  },
  {
   "cell_type": "code",
   "execution_count": 12,
   "metadata": {},
   "outputs": [
    {
     "name": "stderr",
     "output_type": "stream",
     "text": [
      "C:\\Users\\Gab\\Anaconda3\\lib\\site-packages\\pandas\\plotting\\_matplotlib\\converter.py:103: FutureWarning: Using an implicitly registered datetime converter for a matplotlib plotting method. The converter was registered by pandas on import. Future versions of pandas will require you to explicitly register matplotlib converters.\n",
      "\n",
      "To register the converters:\n",
      "\t>>> from pandas.plotting import register_matplotlib_converters\n",
      "\t>>> register_matplotlib_converters()\n",
      "  warnings.warn(msg, FutureWarning)\n"
     ]
    },
    {
     "data": {
      "image/png": "[encoded data removed]",
      "text/plain": [
       "<Figure size 864x360 with 1 Axes>"
      ]
     },
     "metadata": {
      "needs_background": "light"
     },
     "output_type": "display_data"
    }
   ],
   "source": [
    "import matplotlib.pyplot as plt\n",
    "%matplotlib inline\n",
    "\n",
    "fig = plt.figure(figsize=(12, 5))\n",
    "plt.plot(korea_df['day'], korea_df['Confirmed'], label='S.Korea confirmed')\n",
    "plt.plot(korea_df['day'], korea_df['infected'], label='S.Korea infected')\n",
    "plt.plot(italy_df['day'], italy_df['Confirmed'], label='Italy confirmed')\n",
    "plt.plot(italy_df['day'], italy_df['infected'], label='Italy infected')\n",
    "plt.grid(True)\n",
    "plt.legend()\n",
    "plt.show()"
   ]
  },
  {
   "cell_type": "code",
   "execution_count": 13,
   "metadata": {},
   "outputs": [],
   "source": [
    "beta, gamma = [0.01, 0.1]\n",
    "\n",
    "def SIR(t, y):\n",
    "    S = y[0]\n",
    "    I = y[1]\n",
    "    R = y[2]\n",
    "    return([-beta*S*I, beta*S*I-gamma*I, gamma*I])"
   ]
  },
  {
   "cell_type": "code",
   "execution_count": 25,
   "metadata": {},
   "outputs": [
    {
     "data": {
      "text/html": [
       "<div>\n",
       "<style scoped>\n",
       "    .dataframe tbody tr th:only-of-type {\n",
       "        vertical-align: middle;\n",
       "    }\n",
       "\n",
       "    .dataframe tbody tr th {\n",
       "        vertical-align: top;\n",
       "    }\n",
       "\n",
       "    .dataframe thead th {\n",
       "        text-align: right;\n",
       "    }\n",
       "</style>\n",
       "<table border=\"1\" class=\"dataframe\">\n",
       "  <thead>\n",
       "    <tr style=\"text-align: right;\">\n",
       "      <th></th>\n",
       "      <th>Country/Region</th>\n",
       "      <th>day</th>\n",
       "      <th>Confirmed</th>\n",
       "      <th>Deaths</th>\n",
       "      <th>Recovered</th>\n",
       "      <th>infected</th>\n",
       "    </tr>\n",
       "  </thead>\n",
       "  <tbody>\n",
       "    <tr>\n",
       "      <td>2</td>\n",
       "      <td>South Korea</td>\n",
       "      <td>2020-01-24</td>\n",
       "      <td>2.0</td>\n",
       "      <td>0.0</td>\n",
       "      <td>0.0</td>\n",
       "      <td>1.0</td>\n",
       "    </tr>\n",
       "    <tr>\n",
       "      <td>3</td>\n",
       "      <td>South Korea</td>\n",
       "      <td>2020-01-25</td>\n",
       "      <td>2.0</td>\n",
       "      <td>0.0</td>\n",
       "      <td>0.0</td>\n",
       "      <td>0.0</td>\n",
       "    </tr>\n",
       "    <tr>\n",
       "      <td>4</td>\n",
       "      <td>South Korea</td>\n",
       "      <td>2020-01-26</td>\n",
       "      <td>3.0</td>\n",
       "      <td>0.0</td>\n",
       "      <td>0.0</td>\n",
       "      <td>1.0</td>\n",
       "    </tr>\n",
       "    <tr>\n",
       "      <td>5</td>\n",
       "      <td>South Korea</td>\n",
       "      <td>2020-01-27</td>\n",
       "      <td>4.0</td>\n",
       "      <td>0.0</td>\n",
       "      <td>0.0</td>\n",
       "      <td>1.0</td>\n",
       "    </tr>\n",
       "    <tr>\n",
       "      <td>6</td>\n",
       "      <td>South Korea</td>\n",
       "      <td>2020-01-28</td>\n",
       "      <td>4.0</td>\n",
       "      <td>0.0</td>\n",
       "      <td>0.0</td>\n",
       "      <td>0.0</td>\n",
       "    </tr>\n",
       "  </tbody>\n",
       "</table>\n",
       "</div>"
      ],
      "text/plain": [
       "  Country/Region         day  Confirmed  Deaths  Recovered  infected\n",
       "2    South Korea  2020-01-24        2.0     0.0        0.0       1.0\n",
       "3    South Korea  2020-01-25        2.0     0.0        0.0       0.0\n",
       "4    South Korea  2020-01-26        3.0     0.0        0.0       1.0\n",
       "5    South Korea  2020-01-27        4.0     0.0        0.0       1.0\n",
       "6    South Korea  2020-01-28        4.0     0.0        0.0       0.0"
      ]
     },
     "execution_count": 25,
     "metadata": {},
     "output_type": "execute_result"
    }
   ],
   "source": [
    "korea_df.loc[2:].head()"
   ]
  },
  {
   "cell_type": "code",
   "execution_count": 26,
   "metadata": {},
   "outputs": [],
   "source": [
    "from scipy.integrate import solve_ivp\n",
    "\n",
    "beta, gamma = [0.01, 0.1]\n",
    "solution_korea = solve_ivp(SIR, [0, 40], [51_470_000, 1, 0], t_eval=np.arange(0, 40, 1))"
   ]
  },
  {
   "cell_type": "code",
   "execution_count": 27,
   "metadata": {},
   "outputs": [
    {
     "data": {
      "text/plain": [
       "  message: 'The solver successfully reached the end of the integration interval.'\n",
       "     nfev: 11406320\n",
       "     njev: 0\n",
       "      nlu: 0\n",
       "      sol: None\n",
       "   status: 0\n",
       "  success: True\n",
       "        t: array([ 0,  1,  2,  3,  4,  5,  6,  7,  8,  9, 10, 11, 12, 13, 14, 15, 16,\n",
       "       17, 18, 19, 20, 21, 22, 23, 24, 25, 26, 27, 28, 29, 30, 31, 32, 33,\n",
       "       34, 35, 36, 37, 38, 39])\n",
       " t_events: None\n",
       "        y: array([[ 5.14700000e+07,  8.12315949e-07,  1.58795501e-06,\n",
       "        -6.11496054e-07,  1.36615061e-06, -3.22556764e-07,\n",
       "        -1.93104221e-07,  7.71965291e-07, -1.68864907e-07,\n",
       "         1.06585412e-06, -6.11197660e-07,  1.44060939e-06,\n",
       "        -1.12329009e-06,  7.22805066e-07, -1.17917756e-06,\n",
       "         7.52961001e-07,  1.37573581e-06,  4.88191093e-07,\n",
       "        -3.28007828e-07,  5.31566053e-07, -7.40348178e-08,\n",
       "         4.93680791e-07,  6.02739684e-07, -2.47002082e-07,\n",
       "         8.31007760e-07, -3.08101699e-07, -5.18619282e-07,\n",
       "         3.68423388e-07,  3.03307357e-07, -5.40378765e-07,\n",
       "        -1.16883855e-06,  2.35187994e-07,  4.82840476e-07,\n",
       "        -1.01435476e-06,  1.28219399e-06,  1.03296455e-06,\n",
       "         1.02728924e-06,  2.88111234e-07, -3.45020839e-07,\n",
       "        -5.28660800e-07],\n",
       "       [ 1.00000000e+00,  4.65721435e+07,  4.21402181e+07,\n",
       "         3.81300461e+07,  3.45014925e+07,  3.12182414e+07,\n",
       "         2.82474329e+07,  2.55593343e+07,  2.31270420e+07,\n",
       "         2.09262130e+07,  1.89348205e+07,  1.71329341e+07,\n",
       "         1.55025199e+07,  1.40272601e+07,  1.26923898e+07,\n",
       "         1.14845492e+07,  1.03916498e+07,  9.40275361e+06,\n",
       "         8.50796330e+06,  7.69832354e+06,  6.96573120e+06,\n",
       "         6.30285423e+06,  5.70305835e+06,  5.16034059e+06,\n",
       "         4.66926926e+06,  4.22492954e+06,  3.82287433e+06,\n",
       "         3.45907974e+06,  3.12990478e+06,  2.83205496e+06,\n",
       "         2.56254930e+06,  2.31869049e+06,  2.09803792e+06,\n",
       "         1.89838321e+06,  1.71772816e+06,  1.55426472e+06,\n",
       "         1.40635687e+06,  1.27252432e+06,  1.15142762e+06,\n",
       "         1.04185480e+06],\n",
       "       [ 0.00000000e+00,  4.89785751e+06,  9.32978293e+06,\n",
       "         1.33399549e+07,  1.69685085e+07,  2.02517596e+07,\n",
       "         2.32225681e+07,  2.59106667e+07,  2.83429590e+07,\n",
       "         3.05437880e+07,  3.25351805e+07,  3.43370669e+07,\n",
       "         3.59674811e+07,  3.74427409e+07,  3.87776112e+07,\n",
       "         3.99854518e+07,  4.10783512e+07,  4.20672474e+07,\n",
       "         4.29620377e+07,  4.37716775e+07,  4.45042698e+07,\n",
       "         4.51671468e+07,  4.57669427e+07,  4.63096604e+07,\n",
       "         4.68007317e+07,  4.72450715e+07,  4.76471267e+07,\n",
       "         4.80109213e+07,  4.83400962e+07,  4.86379460e+07,\n",
       "         4.89074517e+07,  4.91513105e+07,  4.93719631e+07,\n",
       "         4.95716178e+07,  4.97522728e+07,  4.99157363e+07,\n",
       "         5.00636441e+07,  5.01974767e+07,  5.03185734e+07,\n",
       "         5.04281462e+07]])"
      ]
     },
     "execution_count": 27,
     "metadata": {},
     "output_type": "execute_result"
    }
   ],
   "source": [
    "solution_korea"
   ]
  },
  {
   "cell_type": "code",
   "execution_count": 17,
   "metadata": {},
   "outputs": [],
   "source": [
    "def plot_epidemia(solution, infected, susceptible=False):\n",
    "    fig = plt.figure(figsize=(12, 5))\n",
    "    if susceptible:\n",
    "        plt.plot(solution.t, solution.y[0])\n",
    "    plt.plot(solution.t, solution.y[1])\n",
    "    plt.plot(solution.t, solution.y[2])\n",
    "    plt.plot(infected.reset_index(drop=True).index, infected, \"k*:\")\n",
    "    plt.grid(\"True\")\n",
    "    if susceptible:\n",
    "        plt.legend([\"Susceptible\", \"Infected\", \"Recovered\", \"Original Data\"])\n",
    "    else:\n",
    "        plt.legend([\"Infected\", \"Recovered\", \"Original Data\"])\n",
    "    plt.show()"
   ]
  },
  {
   "cell_type": "code",
   "execution_count": 18,
   "metadata": {},
   "outputs": [
    {
     "data": {
      "image/png": "[encoded data removed]",
      "text/plain": [
       "<Figure size 864x360 with 1 Axes>"
      ]
     },
     "metadata": {
      "needs_background": "light"
     },
     "output_type": "display_data"
    }
   ],
   "source": [
    "plot_epidemia(solution_korea, korea_df.loc[2:]['infected'])"
   ]
  },
  {
   "cell_type": "markdown",
   "metadata": {},
   "source": [
    "### Approximation"
   ]
  },
  {
   "cell_type": "code",
   "execution_count": 19,
   "metadata": {},
   "outputs": [
    {
     "data": {
      "text/plain": [
       "851.0"
      ]
     },
     "execution_count": 19,
     "metadata": {},
     "output_type": "execute_result"
    }
   ],
   "source": [
    "korea_df['infected'].max() "
   ]
  },
  {
   "cell_type": "code",
   "execution_count": 20,
   "metadata": {},
   "outputs": [
    {
     "data": {
      "text/plain": [
       "252.0"
      ]
     },
     "execution_count": 20,
     "metadata": {},
     "output_type": "execute_result"
    }
   ],
   "source": [
    "korea_df['infected'].diff().max()"
   ]
  },
  {
   "cell_type": "code",
   "execution_count": 21,
   "metadata": {},
   "outputs": [
    {
     "data": {
      "text/plain": [
       "0.17870945831971552"
      ]
     },
     "execution_count": 21,
     "metadata": {},
     "output_type": "execute_result"
    }
   ],
   "source": [
    "(korea_df['Recovered'].diff().loc[korea_df['infected'] != 0] / korea_df.loc[korea_df['infected'] != 0]['infected']).mean()"
   ]
  },
  {
   "cell_type": "code",
   "execution_count": 28,
   "metadata": {},
   "outputs": [],
   "source": [
    "beta, gamma = [0.001, 0.1]\n",
    "solution_korea = solve_ivp(SIR, [0, 40], [51_470_000, 1, 0], t_eval=np.arange(0, 41, 1))"
   ]
  },
  {
   "cell_type": "code",
   "execution_count": 29,
   "metadata": {},
   "outputs": [
    {
     "data": {
      "image/png": "[encoded data removed]",
      "text/plain": [
       "<Figure size 864x360 with 1 Axes>"
      ]
     },
     "metadata": {
      "needs_background": "light"
     },
     "output_type": "display_data"
    }
   ],
   "source": [
    "plot_epidemia(solution_korea, korea_df.loc[2:]['infected'])"
   ]
  },
  {
   "cell_type": "code",
   "execution_count": 30,
   "metadata": {},
   "outputs": [],
   "source": [
    "def sumsq_error(parameters):\n",
    "    beta, gamma = parameters\n",
    "    \n",
    "    def SIR(t, y):\n",
    "        S = y[0]\n",
    "        I = y[1]\n",
    "        R = y[2]\n",
    "        return([-beta*S*I, beta*S*I-gamma*I, gamma*I])\n",
    "\n",
    "    solution = solve_ivp(SIR, [0, nb_steps-1], [total_population, 1, 0], t_eval=np.arange(0, nb_steps, 1))\n",
    "    \n",
    "    return(sum((solution.y[1]-infected_population)**2))"
   ]
  },
  {
   "cell_type": "code",
   "execution_count": 31,
   "metadata": {},
   "outputs": [],
   "source": [
    "total_population = 51_470_000\n",
    "infected_population = korea_df.loc[2:]['infected']\n",
    "nb_steps = len(infected_population)"
   ]
  },
  {
   "cell_type": "code",
   "execution_count": 32,
   "metadata": {},
   "outputs": [
    {
     "name": "stdout",
     "output_type": "stream",
     "text": [
      "Wall time: 16min 53s\n"
     ]
    },
    {
     "data": {
      "text/plain": [
       "array([ 0.1499158 , 81.01959328])"
      ]
     },
     "execution_count": 32,
     "metadata": {},
     "output_type": "execute_result"
    }
   ],
   "source": [
    "%%time\n",
    "from scipy.optimize import minimize\n",
    "\n",
    "msol = minimize(sumsq_error, [0.001, 0.1], method='Nelder-Mead')\n",
    "msol.x"
   ]
  },
  {
   "cell_type": "code",
   "execution_count": 33,
   "metadata": {},
   "outputs": [],
   "source": [
    "# Djiby\n",
    "beta_optimal = 5.67e-3\n",
    "gamma_optimal = 24.7\n",
    "\n",
    "# PC de la fac\n",
    "beta_optimal = 0.06321101\n",
    "gamma_optimal = 33.06340503\n",
    "\n",
    "# Approximation Excel\n",
    "beta_optimal = 1.5485e-9\n",
    "gamma_optimal = 0.1839"
   ]
  },
  {
   "cell_type": "code",
   "execution_count": 34,
   "metadata": {},
   "outputs": [],
   "source": [
    "beta = beta_optimal\n",
    "gamma = gamma_optimal\n",
    "\n",
    "def SIR(t, y):\n",
    "    S = y[0]\n",
    "    I = y[1]\n",
    "    R = y[2]\n",
    "    return([-beta*S*I, beta*S*I-gamma*I, gamma*I])\n",
    "\n",
    "solution_korea_optimal = solve_ivp(SIR, [0, 40], [51_470_000*0.1, 1, 0], t_eval=np.arange(0, 40, 1))"
   ]
  },
  {
   "cell_type": "code",
   "execution_count": 35,
   "metadata": {},
   "outputs": [
    {
     "data": {
      "text/plain": [
       "  message: 'The solver successfully reached the end of the integration interval.'\n",
       "     nfev: 68\n",
       "     njev: 0\n",
       "      nlu: 0\n",
       "      sol: None\n",
       "   status: 0\n",
       "  success: True\n",
       "        t: array([ 0,  1,  2,  3,  4,  5,  6,  7,  8,  9, 10, 11, 12, 13, 14, 15, 16,\n",
       "       17, 18, 19, 20, 21, 22, 23, 24, 25, 26, 27, 28, 29, 30, 31, 32, 33,\n",
       "       34, 35, 36, 37, 38, 39])\n",
       " t_events: None\n",
       "        y: array([[5.14700000e+06, 5.14699999e+06, 5.14699999e+06, 5.14699998e+06,\n",
       "        5.14699998e+06, 5.14699997e+06, 5.14699997e+06, 5.14699997e+06,\n",
       "        5.14699997e+06, 5.14699996e+06, 5.14699996e+06, 5.14699996e+06,\n",
       "        5.14699996e+06, 5.14699996e+06, 5.14699996e+06, 5.14699996e+06,\n",
       "        5.14699996e+06, 5.14699996e+06, 5.14699996e+06, 5.14699996e+06,\n",
       "        5.14699996e+06, 5.14699996e+06, 5.14699996e+06, 5.14699996e+06,\n",
       "        5.14699996e+06, 5.14699996e+06, 5.14699996e+06, 5.14699996e+06,\n",
       "        5.14699996e+06, 5.14699995e+06, 5.14699995e+06, 5.14699995e+06,\n",
       "        5.14699995e+06, 5.14699995e+06, 5.14699995e+06, 5.14699995e+06,\n",
       "        5.14699995e+06, 5.14699995e+06, 5.14699995e+06, 5.14699995e+06],\n",
       "       [1.00000000e+00, 8.38674283e-01, 7.03307948e-01, 5.89829246e-01,\n",
       "        4.94740958e-01, 4.14965045e-01, 3.47924421e-01, 2.91720165e-01,\n",
       "        2.44695229e-01, 2.05334654e-01, 1.72266732e-01, 1.44419765e-01,\n",
       "        1.21066661e-01, 1.01540826e-01, 8.52221969e-02, 7.15372382e-02,\n",
       "        5.99905249e-02, 5.02849506e-02, 4.21615787e-02, 3.53755705e-02,\n",
       "        2.96989723e-02, 2.49212747e-02, 2.08918034e-02, 1.75126253e-02,\n",
       "        1.46878949e-02, 1.23280625e-02, 1.03498739e-02, 8.68015368e-03,\n",
       "        7.27570149e-03, 6.09990267e-03, 5.11775770e-03, 4.29659525e-03,\n",
       "        3.60607549e-03, 3.02313073e-03, 2.53393439e-03, 2.12493341e-03,\n",
       "        1.78340721e-03, 1.49746768e-03, 1.25635132e-03, 1.05366890e-03],\n",
       "       [0.00000000e+00, 1.68634236e-01, 3.10133056e-01, 4.28752670e-01,\n",
       "        5.28148730e-01, 6.11538723e-01, 6.81616480e-01, 7.40366950e-01,\n",
       "        7.89522251e-01, 8.30665974e-01, 8.65231967e-01, 8.94340482e-01,\n",
       "        9.18751549e-01, 9.39161960e-01, 9.56219870e-01, 9.70524797e-01,\n",
       "        9.82594610e-01, 9.92739874e-01, 1.00123126e+00, 1.00832469e+00,\n",
       "        1.01425846e+00, 1.01925260e+00, 1.02346462e+00, 1.02699688e+00,\n",
       "        1.02994958e+00, 1.03241632e+00, 1.03448413e+00, 1.03622949e+00,\n",
       "        1.03769757e+00, 1.03892663e+00, 1.03995327e+00, 1.04081163e+00,\n",
       "        1.04153344e+00, 1.04214279e+00, 1.04265415e+00, 1.04308168e+00,\n",
       "        1.04343868e+00, 1.04373757e+00, 1.04398961e+00, 1.04420147e+00]])"
      ]
     },
     "execution_count": 35,
     "metadata": {},
     "output_type": "execute_result"
    }
   ],
   "source": [
    "solution_korea_optimal"
   ]
  },
  {
   "cell_type": "code",
   "execution_count": 36,
   "metadata": {},
   "outputs": [
    {
     "data": {
      "image/png": "[encoded data removed]",
      "text/plain": [
       "<Figure size 864x360 with 1 Axes>"
      ]
     },
     "metadata": {
      "needs_background": "light"
     },
     "output_type": "display_data"
    }
   ],
   "source": [
    "plot_epidemia(solution_korea_optimal, korea_df.loc[2:]['infected'])"
   ]
  },
  {
   "cell_type": "code",
   "execution_count": 37,
   "metadata": {},
   "outputs": [
    {
     "data": {
      "image/png": "[encoded data removed]",
      "text/plain": [
       "<Figure size 864x360 with 1 Axes>"
      ]
     },
     "metadata": {
      "needs_background": "light"
     },
     "output_type": "display_data"
    }
   ],
   "source": [
    "fig = plt.figure(figsize=(12, 5))\n",
    "plt.plot(solution_korea_optimal.t, solution_korea_optimal.y[1])\n",
    "plt.plot(korea_df.loc[2:]['infected'].reset_index(drop=True).index, korea_df.loc[2:]['infected'], \"k*:\")\n",
    "plt.grid(\"True\")\n",
    "plt.legend([\"Infected\", \"Original Data\"])\n",
    "plt.show()"
   ]
  },
  {
   "cell_type": "code",
   "execution_count": 38,
   "metadata": {},
   "outputs": [
    {
     "data": {
      "text/html": [
       "<div>\n",
       "<style scoped>\n",
       "    .dataframe tbody tr th:only-of-type {\n",
       "        vertical-align: middle;\n",
       "    }\n",
       "\n",
       "    .dataframe tbody tr th {\n",
       "        vertical-align: top;\n",
       "    }\n",
       "\n",
       "    .dataframe thead th {\n",
       "        text-align: right;\n",
       "    }\n",
       "</style>\n",
       "<table border=\"1\" class=\"dataframe\">\n",
       "  <thead>\n",
       "    <tr style=\"text-align: right;\">\n",
       "      <th></th>\n",
       "      <th>Country/Region</th>\n",
       "      <th>day</th>\n",
       "      <th>Confirmed</th>\n",
       "      <th>Deaths</th>\n",
       "      <th>Recovered</th>\n",
       "    </tr>\n",
       "  </thead>\n",
       "  <tbody>\n",
       "    <tr>\n",
       "      <td>44</td>\n",
       "      <td>Mainland China</td>\n",
       "      <td>2020-03-06</td>\n",
       "      <td>79771.0</td>\n",
       "      <td>3029.0</td>\n",
       "      <td>53172.0</td>\n",
       "    </tr>\n",
       "    <tr>\n",
       "      <td>45</td>\n",
       "      <td>Mainland China</td>\n",
       "      <td>2020-03-07</td>\n",
       "      <td>78619.0</td>\n",
       "      <td>3051.0</td>\n",
       "      <td>53511.0</td>\n",
       "    </tr>\n",
       "    <tr>\n",
       "      <td>46</td>\n",
       "      <td>Mainland China</td>\n",
       "      <td>2020-03-08</td>\n",
       "      <td>79455.0</td>\n",
       "      <td>3084.0</td>\n",
       "      <td>56114.0</td>\n",
       "    </tr>\n",
       "    <tr>\n",
       "      <td>47</td>\n",
       "      <td>Mainland China</td>\n",
       "      <td>2020-03-09</td>\n",
       "      <td>76902.0</td>\n",
       "      <td>3071.0</td>\n",
       "      <td>55004.0</td>\n",
       "    </tr>\n",
       "    <tr>\n",
       "      <td>48</td>\n",
       "      <td>Mainland China</td>\n",
       "      <td>2020-03-10</td>\n",
       "      <td>77201.0</td>\n",
       "      <td>3088.0</td>\n",
       "      <td>56620.0</td>\n",
       "    </tr>\n",
       "  </tbody>\n",
       "</table>\n",
       "</div>"
      ],
      "text/plain": [
       "    Country/Region         day  Confirmed  Deaths  Recovered\n",
       "44  Mainland China  2020-03-06    79771.0  3029.0    53172.0\n",
       "45  Mainland China  2020-03-07    78619.0  3051.0    53511.0\n",
       "46  Mainland China  2020-03-08    79455.0  3084.0    56114.0\n",
       "47  Mainland China  2020-03-09    76902.0  3071.0    55004.0\n",
       "48  Mainland China  2020-03-10    77201.0  3088.0    56620.0"
      ]
     },
     "execution_count": 38,
     "metadata": {},
     "output_type": "execute_result"
    }
   ],
   "source": [
    "china_df = epidemie_df.get_country('Mainland China')[:49]\n",
    "china_df.tail()"
   ]
  },
  {
   "cell_type": "code",
   "execution_count": 39,
   "metadata": {},
   "outputs": [
    {
     "data": {
      "image/png": "[encoded data removed]",
      "text/plain": [
       "<Figure size 864x360 with 1 Axes>"
      ]
     },
     "metadata": {
      "needs_background": "light"
     },
     "output_type": "display_data"
    }
   ],
   "source": [
    "china_df.set_index('day').plot.line(figsize=(12, 5));"
   ]
  },
  {
   "cell_type": "code",
   "execution_count": 40,
   "metadata": {},
   "outputs": [],
   "source": [
    "beta, gamma = [0.001, 0.1]\n",
    "china_df['infected'] = china_df['Confirmed'].diff()\n",
    "nb_steps = china_df.shape[0]\n",
    "solution_china = solve_ivp(SIR, [0, nb_steps-1], [1_350_000_000, 1, 0], t_eval=np.arange(0, nb_steps, 1))"
   ]
  },
  {
   "cell_type": "code",
   "execution_count": 41,
   "metadata": {},
   "outputs": [
    {
     "data": {
      "image/png": "[encoded data removed]",
      "text/plain": [
       "<Figure size 864x360 with 1 Axes>"
      ]
     },
     "metadata": {
      "needs_background": "light"
     },
     "output_type": "display_data"
    }
   ],
   "source": [
    "fig = plt.figure(figsize=(12, 5))\n",
    "plt.plot(solution_china.t, solution_china.y[1])\n",
    "plt.plot(china_df['infected'].reset_index(drop=True).index, china_df['infected'], \"k*:\")\n",
    "plt.title('China')\n",
    "plt.grid(\"True\")\n",
    "plt.legend([\"Infected\", \"Original Data\"])\n",
    "plt.show()"
   ]
  },
  {
   "cell_type": "code",
   "execution_count": 42,
   "metadata": {},
   "outputs": [],
   "source": [
    "korea_df.to_clipboard()"
   ]
  },
  {
   "cell_type": "code",
   "execution_count": null,
   "metadata": {},
   "outputs": [],
   "source": []
  }
 ],
 "metadata": {
  "kernelspec": {
   "display_name": "Python 3",
   "language": "python",
   "name": "python3"
  },
  "language_info": {
   "codemirror_mode": {
    "name": "ipython",
    "version": 3
   },
   "file_extension": ".py",
   "mimetype": "text/x-python",
   "name": "python",
   "nbconvert_exporter": "python",
   "pygments_lexer": "ipython3",
   "version": "3.7.4"
  }
 },
 "nbformat": 4,
 "nbformat_minor": 2
}
